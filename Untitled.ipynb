{
 "cells": [
  {
   "cell_type": "code",
   "execution_count": 18,
   "id": "98bf1c15-1a8e-4e18-9ae7-0bb0e80aa47e",
   "metadata": {},
   "outputs": [],
   "source": [
    "# Check ds\n",
    "import xarray as xr\n",
    "from scipy import signal\n",
    "from matplotlib import pyplot as plt\n",
    "import numpy as np"
   ]
  },
  {
   "cell_type": "code",
   "execution_count": 2,
   "id": "9f4f6a2d-3413-480a-bf99-2339212ff108",
   "metadata": {},
   "outputs": [],
   "source": [
    "fn = '/lfhydrophone/ooi_lfhydrophones.zarr/'\n",
    "\n",
    "ds = xr.open_zarr(fn)"
   ]
  },
  {
   "cell_type": "code",
   "execution_count": 32,
   "id": "30dd9dfc-d1d9-462c-a927-8fce2f32dbe2",
   "metadata": {},
   "outputs": [],
   "source": [
    "f,Pxx = signal.welch(ds['AXEC2'][-10000:].values, fs=200)"
   ]
  },
  {
   "cell_type": "code",
   "execution_count": 34,
   "id": "4daf38a8-7dcc-4541-bce5-d76a51bd46ed",
   "metadata": {},
   "outputs": [
    {
     "data": {
      "text/plain": [
       "[<matplotlib.lines.Line2D at 0x7f3610504cd0>]"
      ]
     },
     "execution_count": 34,
     "metadata": {},
     "output_type": "execute_result"
    },
    {
     "data": {
      "image/png": "[encoded data removed]",
      "text/plain": [
       "<Figure size 432x288 with 1 Axes>"
      ]
     },
     "metadata": {
      "needs_background": "light"
     },
     "output_type": "display_data"
    }
   ],
   "source": [
    "plt.plot(20*np.log10(Pxx*(1e12)))"
   ]
  },
  {
   "cell_type": "code",
   "execution_count": 35,
   "id": "856b530d-7eef-4953-b63e-4b12c8fd469c",
   "metadata": {},
   "outputs": [
    {
     "data": {
      "text/plain": [
       "1000000000000.0"
      ]
     },
     "execution_count": 35,
     "metadata": {},
     "output_type": "execute_result"
    }
   ],
   "source": [
    "1e6*1e6"
   ]
  },
  {
   "cell_type": "code",
   "execution_count": null,
   "id": "7a547252-8ed6-4751-be9a-2a8f998c26a7",
   "metadata": {},
   "outputs": [],
   "source": []
  }
 ],
 "metadata": {
  "kernelspec": {
   "display_name": "Python 3 (ipykernel)",
   "language": "python",
   "name": "python3"
  },
  "language_info": {
   "codemirror_mode": {
    "name": "ipython",
    "version": 3
   },
   "file_extension": ".py",
   "mimetype": "text/x-python",
   "name": "python",
   "nbconvert_exporter": "python",
   "pygments_lexer": "ipython3",
   "version": "3.10.4"
  }
 },
 "nbformat": 4,
 "nbformat_minor": 5
}
