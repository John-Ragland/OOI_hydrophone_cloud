{
 "cells": [
  {
   "cell_type": "code",
   "execution_count": 1,
   "id": "d6d2ee50-0f28-4562-b476-84f92b1f23e9",
   "metadata": {},
   "outputs": [],
   "source": [
    "import obspy\n",
    "import numpy as np\n",
    "from matplotlib import pyplot as plt"
   ]
  },
  {
   "cell_type": "code",
   "execution_count": 3,
   "id": "5eb0ce03-b6d6-4a13-921b-fc56f1afdc16",
   "metadata": {},
   "outputs": [],
   "source": [
    "stream = obspy.read('/Users/jhrag/Downloads/2015_02_14.miniseed')"
   ]
  },
  {
   "cell_type": "code",
   "execution_count": 13,
   "id": "85347484-a6db-43b1-9006-5caf065202c3",
   "metadata": {},
   "outputs": [
    {
     "name": "stdout",
     "output_type": "stream",
     "text": [
      "200.0000000000\n",
      "200.0000000000\n",
      "199.9999847412\n",
      "200.0000000000\n",
      "199.9999694824\n",
      "200.0000000000\n",
      "200.0000152588\n",
      "199.9999847412\n",
      "199.9999694824\n",
      "199.9999847412\n"
     ]
    }
   ],
   "source": [
    "for k in range(10):\n",
    "    print(f'{stream[k].stats.sampling_rate:0.10f}')"
   ]
  },
  {
   "cell_type": "code",
   "execution_count": null,
   "id": "b7febe61-d799-4af0-be8a-6e7dfa0f228f",
   "metadata": {},
   "outputs": [],
   "source": [
    "streamp[0]"
   ]
  }
 ],
 "metadata": {
  "kernelspec": {
   "display_name": "Python 3 (ipykernel)",
   "language": "python",
   "name": "python3"
  },
  "language_info": {
   "codemirror_mode": {
    "name": "ipython",
    "version": 3
   },
   "file_extension": ".py",
   "mimetype": "text/x-python",
   "name": "python",
   "nbconvert_exporter": "python",
   "pygments_lexer": "ipython3",
   "version": "3.9.7"
  }
 },
 "nbformat": 4,
 "nbformat_minor": 5
}
