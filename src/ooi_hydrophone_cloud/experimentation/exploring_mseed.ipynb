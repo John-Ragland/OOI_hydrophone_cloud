{
 "cells": [
  {
   "cell_type": "markdown",
   "id": "469adc97-4115-435d-b311-b5f580c3a56e",
   "metadata": {},
   "source": [
    "# Exploring mseed file organization\n",
    "- understand how data is currently stored on iris\n",
    "- figure out how to handle time coordinate"
   ]
  },
  {
   "cell_type": "code",
   "execution_count": 1,
   "id": "222f87be-53e0-4399-ae99-42be9ea44cf2",
   "metadata": {},
   "outputs": [],
   "source": [
    "import obspy\n",
    "import numpy as np\n",
    "from matplotlib import pyplot as plt\n",
    "import xarray as xr"
   ]
  },
  {
   "cell_type": "code",
   "execution_count": 3,
   "id": "5b1dee6d-6800-4db5-8375-c7a8d734e558",
   "metadata": {},
   "outputs": [],
   "source": [
    "stream = obspy.read('TA.miniseed')"
   ]
  },
  {
   "cell_type": "code",
   "execution_count": 23,
   "id": "bfd8105c-2b4c-449d-bd5b-da144ab9a328",
   "metadata": {},
   "outputs": [],
   "source": [
    "for tr in stream:\n",
    "    tr.stats.sampling_rate = 200"
   ]
  },
  {
   "cell_type": "code",
   "execution_count": 27,
   "id": "d832b500-afde-46bd-8b60-dd7a95abc6a7",
   "metadata": {},
   "outputs": [
    {
     "name": "stdout",
     "output_type": "stream",
     "text": [
      "24 Trace(s) in Stream:\n",
      "OO.AXEC2..HDH | 2018-01-01T00:00:00.000000Z - 2018-01-04T11:46:39.985000Z | 200.0 Hz, 60319998 samples\n",
      "OO.AXEC2..HDH | 2018-01-04T11:47:46.470000Z - 2018-01-05T08:16:59.615000Z | 200.0 Hz, 14750630 samples\n",
      "OO.AXEC2..HDH | 2018-01-05T08:17:49.360000Z - 2018-01-05T15:49:38.815000Z | 200.0 Hz, 5421892 samples\n",
      "OO.AXEC2..HDH | 2018-01-05T15:50:40.780000Z - 2018-01-05T22:17:39.995000Z | 200.0 Hz, 4643844 samples\n",
      "OO.AXEC2..HDH | 2018-01-05T22:18:33.160000Z - 2018-01-06T15:46:56.355000Z | 200.0 Hz, 12580640 samples\n",
      "OO.AXEC2..HDH | 2018-01-06T15:48:17.060000Z - 2018-01-06T23:17:06.545000Z | 200.0 Hz, 5385898 samples\n",
      "OO.AXEC2..HDH | 2018-01-06T23:17:36.080000Z - 2018-01-08T19:46:45.695000Z | 200.0 Hz, 32029924 samples\n",
      "OO.AXEC2..HDH | 2018-01-08T19:47:45.390000Z - 2018-01-09T06:17:05.565000Z | 200.0 Hz, 7552036 samples\n",
      "OO.AXEC2..HDH | 2018-01-09T06:17:57.460000Z - 2018-01-12T23:45:53.435000Z | 200.0 Hz, 64415196 samples\n",
      "OO.AXEC2..HDH | 2018-01-12T23:47:17.390000Z - 2018-01-13T06:17:14.655000Z | 200.0 Hz, 4679454 samples\n",
      "OO.AXEC2..HDH | 2018-01-13T06:18:03.470000Z - 2018-01-15T15:52:40.355000Z | 200.0 Hz, 41455378 samples\n",
      "OO.AXEC2..HDH | 2018-01-15T15:53:47.270000Z - 2018-01-16T00:17:14.215000Z | 200.0 Hz, 6041390 samples\n",
      "OO.AXEC2..HDH | 2018-01-16T00:18:11.970000Z - 2018-01-19T02:12:15.895000Z | 200.0 Hz, 53208786 samples\n",
      "OO.AXEC2..HDH | 2018-01-19T20:11:44.820000Z - 2018-01-19T20:14:23.995000Z | 200.0 Hz, 31836 samples\n",
      "OO.AXEC2..HDH | 2018-01-19T20:14:28.000000Z - 2018-01-19T20:41:35.465000Z | 200.0 Hz, 325494 samples\n",
      "OO.AXEC2..HDH | 2018-01-19T20:41:42.160000Z - 2018-01-20T08:24:49.615000Z | 200.0 Hz, 8437492 samples\n",
      "OO.AXEC2..HDH | 2018-01-20T08:25:09.270000Z - 2018-01-22T13:46:14.025000Z | 200.0 Hz, 38412952 samples\n",
      "OO.AXEC2..HDH | 2018-01-22T13:47:23.400000Z - 2018-01-23T02:18:19.315000Z | 200.0 Hz, 9011184 samples\n",
      "OO.AXEC2..HDH | 2018-01-23T02:19:14.220000Z - 2018-01-24T17:33:15.115000Z | 200.0 Hz, 28248180 samples\n",
      "OO.AXEC2..HDH | 2018-01-24T17:42:02.940000Z - 2018-01-27T07:48:04.135000Z | 200.0 Hz, 44712240 samples\n",
      "OO.AXEC2..HDH | 2018-01-27T07:48:48.890000Z - 2018-01-27T16:16:34.135000Z | 200.0 Hz, 6093050 samples\n",
      "OO.AXEC2..HDH | 2018-01-27T16:17:50.370000Z - 2018-01-28T15:45:50.495000Z | 200.0 Hz, 16896026 samples\n",
      "OO.AXEC2..HDH | 2018-01-28T15:47:13.660000Z - 2018-01-29T08:17:05.595000Z | 200.0 Hz, 11878388 samples\n",
      "OO.AXEC2..HDH | 2018-01-29T08:17:30.310000Z - 2018-01-30T21:13:23.585000Z | 200.0 Hz, 26590656 samples\n"
     ]
    }
   ],
   "source": [
    "print(stream.__str__(extended=True))"
   ]
  },
  {
   "cell_type": "code",
   "execution_count": 30,
   "id": "3a7063e5-3485-4cf7-819e-01f440d7eadf",
   "metadata": {},
   "outputs": [],
   "source": [
    "trace = stream.merge()[0]"
   ]
  },
  {
   "cell_type": "code",
   "execution_count": 40,
   "id": "e4a4c0bb-d16c-4a0b-8a9a-b09532336cf4",
   "metadata": {},
   "outputs": [
    {
     "data": {
      "text/plain": [
       "[<matplotlib.lines.Line2D at 0x7fd280ffef40>]"
      ]
     },
     "execution_count": 40,
     "metadata": {},
     "output_type": "execute_result"
    },
    {
     "data": {
      "image/png": "[encoded data removed]",
      "text/plain": [
       "<Figure size 432x288 with 1 Axes>"
      ]
     },
     "metadata": {
      "needs_background": "light"
     },
     "output_type": "display_data"
    }
   ],
   "source": [
    "plt.plot(trace.data.mask[60319998-10000:60319998+100000])"
   ]
  },
  {
   "cell_type": "code",
   "execution_count": 45,
   "id": "e49e637c-a685-4296-ac54-b2c4a10f067e",
   "metadata": {},
   "outputs": [],
   "source": [
    "idx = np.argmax(trace.data.mask)"
   ]
  },
  {
   "cell_type": "code",
   "execution_count": null,
   "id": "ae898124-d1fa-45ba-89ed-3b21e8c79d42",
   "metadata": {},
   "outputs": [],
   "source": [
    "trace.data[idx-10:idx+10].filled(fill_value=np.nan)"
   ]
  },
  {
   "cell_type": "code",
   "execution_count": 60,
   "id": "3f6f8a52-f0b3-4e1a-a902-b86ac1f63a6f",
   "metadata": {},
   "outputs": [
    {
     "data": {
      "text/plain": [
       "dtype('float64')"
      ]
     },
     "execution_count": 60,
     "metadata": {},
     "output_type": "execute_result"
    }
   ],
   "source": [
    "xr.DataArray(trace.data[idx-10:idx+10]).values.dtype"
   ]
  },
  {
   "cell_type": "code",
   "execution_count": 62,
   "id": "33b7c40c-f3e9-43bd-90a6-5a8a4e971b67",
   "metadata": {},
   "outputs": [
    {
     "data": {
      "text/plain": [
       "array([     -27261,      -27081,      -27074,      -27062,      -27053,\n",
       "            -27143,      -27334,      -27343,      -27258,      -27089,\n",
       "       -2147483648, -2147483648, -2147483648, -2147483648, -2147483648,\n",
       "       -2147483648, -2147483648, -2147483648, -2147483648, -2147483648], dtype=int32)"
      ]
     },
     "execution_count": 62,
     "metadata": {},
     "output_type": "execute_result"
    }
   ],
   "source": [
    "trace.data.data[idx-10:idx+10]"
   ]
  },
  {
   "cell_type": "code",
   "execution_count": 63,
   "id": "787dcd20-bcd9-49c6-8435-fd2515e5e063",
   "metadata": {},
   "outputs": [
    {
     "data": {
      "text/plain": [
       "dtype('bool')"
      ]
     },
     "execution_count": 63,
     "metadata": {},
     "output_type": "execute_result"
    }
   ],
   "source": [
    "trace.data.mask.dtype"
   ]
  },
  {
   "cell_type": "code",
   "execution_count": 64,
   "id": "e01eaab4-72be-4218-9eed-5ee56b674e11",
   "metadata": {},
   "outputs": [
    {
     "data": {
      "text/plain": [
       "-1120"
      ]
     },
     "execution_count": 64,
     "metadata": {},
     "output_type": "execute_result"
    }
   ],
   "source": [
    "np.max(trace.data)"
   ]
  },
  {
   "cell_type": "code",
   "execution_count": 65,
   "id": "a7bf96aa-0616-4130-8031-d4f6f4d29f95",
   "metadata": {},
   "outputs": [
    {
     "data": {
      "text/plain": [
       "-50982"
      ]
     },
     "execution_count": 65,
     "metadata": {},
     "output_type": "execute_result"
    }
   ],
   "source": [
    "np.min(trace.data)"
   ]
  },
  {
   "cell_type": "code",
   "execution_count": 66,
   "id": "ca41d529-b52c-4018-b1be-8bcef4864569",
   "metadata": {},
   "outputs": [
    {
     "data": {
      "text/plain": [
       "OO.AXEC2..HDH | 2018-01-01T00:00:00.000000Z - 2018-01-30T21:13:23.585000Z | 200.0 Hz, 516400718 samples (masked)"
      ]
     },
     "execution_count": 66,
     "metadata": {},
     "output_type": "execute_result"
    }
   ],
   "source": [
    "trace"
   ]
  },
  {
   "cell_type": "code",
   "execution_count": 75,
   "id": "3d611871-34c3-43cd-af60-34d90c91f3ad",
   "metadata": {},
   "outputs": [],
   "source": [
    "from obspy.io.xseed.core import _read_resp\n",
    "resp = _read_resp('/Users/jhrag/Downloads/RESP.AXEC2.OO.HDH.resp')"
   ]
  },
  {
   "cell_type": "code",
   "execution_count": 77,
   "id": "ebeaf70f-7a95-4680-833f-4460ce79052a",
   "metadata": {},
   "outputs": [
    {
     "data": {
      "text/plain": [
       "obspy.core.inventory.inventory.Inventory"
      ]
     },
     "execution_count": 77,
     "metadata": {},
     "output_type": "execute_result"
    }
   ],
   "source": [
    "type(resp)"
   ]
  },
  {
   "cell_type": "code",
   "execution_count": 83,
   "id": "12625e96-777e-45d4-addd-27a1808011c9",
   "metadata": {},
   "outputs": [
    {
     "ename": "TypeError",
     "evalue": "plot_response() missing 1 required positional argument: 'min_freq'",
     "output_type": "error",
     "traceback": [
      "\u001b[0;31m---------------------------------------------------------------------------\u001b[0m",
      "\u001b[0;31mTypeError\u001b[0m                                 Traceback (most recent call last)",
      "\u001b[0;32m/var/folders/mt/5p8b1dpj5nz4q816gfl4gzl40000gp/T/ipykernel_73477/3471621224.py\u001b[0m in \u001b[0;36m<module>\u001b[0;34m\u001b[0m\n\u001b[0;32m----> 1\u001b[0;31m \u001b[0mresp\u001b[0m\u001b[0;34m.\u001b[0m\u001b[0mplot_response\u001b[0m\u001b[0;34m(\u001b[0m\u001b[0;34m)\u001b[0m\u001b[0;34m\u001b[0m\u001b[0;34m\u001b[0m\u001b[0m\n\u001b[0m",
      "\u001b[0;31mTypeError\u001b[0m: plot_response() missing 1 required positional argument: 'min_freq'"
     ]
    }
   ],
   "source": [
    "resp.plot_response()"
   ]
  },
  {
   "cell_type": "code",
   "execution_count": null,
   "id": "1ea27841-4e0d-4af0-b9fc-4685a7610c61",
   "metadata": {},
   "outputs": [],
   "source": []
  }
 ],
 "metadata": {
  "kernelspec": {
   "display_name": "Python 3 (ipykernel)",
   "language": "python",
   "name": "python3"
  },
  "language_info": {
   "codemirror_mode": {
    "name": "ipython",
    "version": 3
   },
   "file_extension": ".py",
   "mimetype": "text/x-python",
   "name": "python",
   "nbconvert_exporter": "python",
   "pygments_lexer": "ipython3",
   "version": "3.9.7"
  }
 },
 "nbformat": 4,
 "nbformat_minor": 5
}
