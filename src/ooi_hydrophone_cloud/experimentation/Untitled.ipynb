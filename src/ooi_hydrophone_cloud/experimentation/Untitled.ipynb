{
 "cells": [
  {
   "cell_type": "markdown",
   "id": "17b933ac-7b49-4d83-86db-a5ee79b25c96",
   "metadata": {},
   "source": [
    "# Check Zarr File"
   ]
  },
  {
   "cell_type": "code",
   "execution_count": 4,
   "id": "eab201b6-2d9a-4210-aa42-5997e7c94dc3",
   "metadata": {},
   "outputs": [],
   "source": [
    "import os"
   ]
  },
  {
   "cell_type": "code",
   "execution_count": 5,
   "id": "d56aaaa0-cdc1-4fcb-9e63-4b3eb8397cd6",
   "metadata": {},
   "outputs": [
    {
     "data": {
      "text/plain": [
       "environ{'SHELL': '/bin/bash',\n",
       "        'CONDA_MKL_INTERFACE_LAYER_BACKUP': '',\n",
       "        'CONDA_EXE': '/home/jhrag/anaconda3/bin/conda',\n",
       "        '_CE_M': '',\n",
       "        'AZURE_CONSTR_dasdata': 'DefaultEndpointsProtocol=https;AccountName=dasdata;AccountKey=X3Hx05zkPXvESvGzbS2fN2eIJt6/iclGM11BJK1S6CZ4XfIMX25>',\n",
       "        'AZURE_KEY_lfhydrophone': 'UohL6H3jDaDLliug0g2Lg5qZZNKWdyxkq2S5KYLE0EFwLjo09auQp48PyhBRKJtYsfjXMmie/d/9+AStLFAniQ==',\n",
       "        'PWD': '/home/jhrag',\n",
       "        'LOGNAME': 'jhrag',\n",
       "        'XDG_SESSION_TYPE': 'tty',\n",
       "        'CONDA_PREFIX': '/home/jhrag/anaconda3/envs/ooi_dev',\n",
       "        '_': '/home/jhrag/anaconda3/envs/ooi_dev/bin/jupyter',\n",
       "        'AZURE_CONSTR_ooidata': 'DefaultEndpointsProtocol=https;AccountName=ooidata;AccountKey=ibLlKtCIS3BRkG2XveLGlTgs4dElF0PAs7HFKaZ5LhVuQiJgEhLC9uDLmz7QACPMr2qleg6QQTq8+AStSKqsqg==;EndpointSuffix=core.windows.net',\n",
       "        'MOTD_SHOWN': 'pam',\n",
       "        'HOME': '/home/jhrag',\n",
       "        'LANG': 'C.UTF-8',\n",
       "        'LS_COLORS': 'rs=0:di=01;34:ln=01;36:mh=00:pi=40;33:so=01;35:do=01;35:bd=40;33;01:cd=40;33;01:or=40;31;01:mi=00:su=37;41:sg=30;43:ca=30;41:tw=30;42:ow=34;42:st=37;44:ex=01;32:*.tar=01;31:*.tgz=01;31:*.arc=01;31:*.arj=01;31:*.taz=01;31:*.lha=01;31:*.lz4=01;31:*.lzh=01;31:*.lzma=01;31:*.tlz=01;31:*.txz=01;31:*.tzo=01;31:*.t7z=01;31:*.zip=01;31:*.z=01;31:*.dz=01;31:*.gz=01;31:*.lrz=01;31:*.lz=01;31:*.lzo=01;31:*.xz=01;31:*.zst=01;31:*.tzst=01;31:*.bz2=01;31:*.bz=01;31:*.tbz=01;31:*.tbz2=01;31:*.tz=01;31:*.deb=01;31:*.rpm=01;31:*.jar=01;31:*.war=01;31:*.ear=01;31:*.sar=01;31:*.rar=01;31:*.alz=01;31:*.ace=01;31:*.zoo=01;31:*.cpio=01;31:*.7z=01;31:*.rz=01;31:*.cab=01;31:*.wim=01;31:*.swm=01;31:*.dwm=01;31:*.esd=01;31:*.jpg=01;35:*.jpeg=01;35:*.mjpg=01;35:*.mjpeg=01;35:*.gif=01;35:*.bmp=01;35:*.pbm=01;35:*.pgm=01;35:*.ppm=01;35:*.tga=01;35:*.xbm=01;35:*.xpm=01;35:*.tif=01;35:*.tiff=01;35:*.png=01;35:*.svg=01;35:*.svgz=01;35:*.mng=01;35:*.pcx=01;35:*.mov=01;35:*.mpg=01;35:*.mpeg=01;35:*.m2v=01;35:*.mkv=01;35:*.webm=01;35:*.ogm=01;35:*.mp4=01;35:*.m4v=01;35:*.mp4v=01;35:*.vob=01;35:*.qt=01;35:*.nuv=01;35:*.wmv=01;35:*.asf=01;35:*.rm=01;35:*.rmvb=01;35:*.flc=01;35:*.avi=01;35:*.fli=01;35:*.flv=01;35:*.gl=01;35:*.dl=01;35:*.xcf=01;35:*.xwd=01;35:*.yuv=01;35:*.cgm=01;35:*.emf=01;35:*.ogv=01;35:*.ogx=01;35:*.aac=00;36:*.au=00;36:*.flac=00;36:*.m4a=00;36:*.mid=00;36:*.midi=00;36:*.mka=00;36:*.mp3=00;36:*.mpc=00;36:*.ogg=00;36:*.ra=00;36:*.wav=00;36:*.oga=00;36:*.opus=00;36:*.spx=00;36:*.xspf=00;36:',\n",
       "        'OOI_USERNAME': 'OOIAPI-9OW3P96UZ9YKH6',\n",
       "        'CONDA_PROMPT_MODIFIER': '(ooi_dev) ',\n",
       "        'SSH_CONNECTION': '128.95.205.74 63837 10.1.0.7 22',\n",
       "        'AZURE_SAS_lfhydrophone': '?sv=2021-08-06&se=2022-11-25T17%3A04%3A05Z&sr=c&sp=rl&sig=TJBsZdHmystDzNB2%2FUGXSB0k5S4VYs5aXaIUvBTHLRY%3D',\n",
       "        'SGX_AESM_ADDR': '1',\n",
       "        'LESSCLOSE': '/usr/bin/lesspipe %s %s',\n",
       "        'XDG_SESSION_CLASS': 'user',\n",
       "        'TERM': 'xterm-color',\n",
       "        'OOI_TOKEN': 'TEMP-TOKEN-A3STSZK6P6ULST',\n",
       "        '_CE_CONDA': '',\n",
       "        'LESSOPEN': '| /usr/bin/lesspipe %s',\n",
       "        'USER': 'jhrag',\n",
       "        'AZURE_CONSTR_lfhydrophone': 'DefaultEndpointsProtocol=https;AccountName=lfhydrophone;AccountKey=UohL6H3jDaDLliug0g2Lg5qZZNKWdyxkq2S5KYLE0>',\n",
       "        'CONDA_SHLVL': '2',\n",
       "        'SHLVL': '2',\n",
       "        'AZURE_SAS_ooidata': 'sp=racwdli&st=2023-03-20T22:31:22Z&se=2023-03-28T06:31:22Z&spr=https&sv=2021-12-02&sr=c&sig=%2FOPKxvByHkitRbbFA1J0lq2XU5Pt2QVEJsBSEvJHX74%3D',\n",
       "        'PROJ_LIB': '/home/jhrag/anaconda3/envs/ooi_dev/share/proj',\n",
       "        'AZURE_KEY_dasdata': 'X3Hx05zkPXvESvGzbS2fN2eIJt6/iclGM11BJK1S6CZ4XfIMX25IKrFQ3xj+VZVssIinccjzuSy0+AStJF/+6w==',\n",
       "        'XDG_SESSION_ID': '5',\n",
       "        'AZURE_KEY_ooidata': 'ibLlKtCIS3BRkG2XveLGlTgs4dElF0PAs7HFKaZ5LhVuQiJgEhLC9uDLmz7QACPMr2qleg6QQTq8+AStSKqsqg==',\n",
       "        'CONDA_PYTHON_EXE': '/home/jhrag/anaconda3/bin/python',\n",
       "        'XDG_RUNTIME_DIR': '/run/user/1000',\n",
       "        'SSH_CLIENT': '128.95.205.74 63837 22',\n",
       "        'CONDA_DEFAULT_ENV': 'ooi_dev',\n",
       "        'XDG_DATA_DIRS': '/usr/local/share:/usr/share:/var/lib/snapd/desktop',\n",
       "        'PATH': '/home/jhrag/azcopy_linux_amd64_10.16.1:/home/jhrag/Code/at/Bellhop:/home/jhrag/Code/at/KrakenField:/home/jhrag/Code/at/Kraken:/home/jhrag/anaconda3/envs/ooi_dev/bin:/home/jhrag/anaconda3/condabin:/usr/local/sbin:/usr/local/bin:/usr/sbin:/usr/bin:/sbin:/bin:/usr/games:/usr/local/games:/snap/bin',\n",
       "        'DBUS_SESSION_BUS_ADDRESS': 'unix:path=/run/user/1000/bus',\n",
       "        'SSH_TTY': '/dev/pts/0',\n",
       "        'CONDA_PREFIX_1': '/home/jhrag/anaconda3',\n",
       "        'PROJ_NETWORK': 'ON',\n",
       "        'MKL_INTERFACE_LAYER': 'LP64,GNU',\n",
       "        'PYDEVD_USE_FRAME_EVAL': 'NO',\n",
       "        'JPY_PARENT_PID': '51088',\n",
       "        'CLICOLOR': '1',\n",
       "        'PAGER': 'cat',\n",
       "        'GIT_PAGER': 'cat',\n",
       "        'MPLBACKEND': 'module://matplotlib_inline.backend_inline'}"
      ]
     },
     "execution_count": 5,
     "metadata": {},
     "output_type": "execute_result"
    }
   ],
   "source": [
    "os.environ"
   ]
  },
  {
   "cell_type": "code",
   "execution_count": 7,
   "id": "5c652375-e227-4aca-a246-93dc1b608ecf",
   "metadata": {},
   "outputs": [],
   "source": [
    "connection_string = os.environ['AZURE_CONSTR_ooidata']\n",
    "account_name = 'ooidata'\n",
    "\n",
    "storage_options = {'account_name':account_name, 'connection_string':connection_string}\n",
    "ds = xr.open_zarr('abfs://lfhydrophonezarr/ooi_lfhydrophones.zarr', storage_options=storage_options)"
   ]
  },
  {
   "cell_type": "code",
   "execution_count": 1,
   "id": "f7b9ec7a-8ebc-4554-a6e6-264595f4d733",
   "metadata": {},
   "outputs": [],
   "source": [
    "import xarray as xr"
   ]
  },
  {
   "cell_type": "code",
   "execution_count": 2,
   "id": "cf42ad8f-5bb7-4c00-ac87-ae3116482eef",
   "metadata": {},
   "outputs": [],
   "source": [
    "fn = '/datadrive/lfhydrophone/ooi_lfhydrophones.zarr/'\n",
    "ds = xr.open_zarr(fn)"
   ]
  },
  {
   "cell_type": "code",
   "execution_count": null,
   "id": "c2bb7941-885f-42b7-8a13-cf22baa70532",
   "metadata": {},
   "outputs": [],
   "source": []
  },
  {
   "cell_type": "code",
   "execution_count": 3,
   "id": "f9d22132-21df-4103-99d9-0a7edd0dffcb",
   "metadata": {},
   "outputs": [
    {
     "data": {
      "text/plain": [
       "[<matplotlib.lines.Line2D at 0x7f54f9d4ef80>]"
      ]
     },
     "execution_count": 3,
     "metadata": {},
     "output_type": "execute_result"
    },
    {
     "data": {
      "image/png": "[encoded data removed]",
      "text/plain": [
       "<Figure size 432x288 with 1 Axes>"
      ]
     },
     "metadata": {
      "needs_background": "light"
     },
     "output_type": "display_data"
    }
   ],
   "source": [
    "ds['AXBA1'][-1000:].plot()"
   ]
  },
  {
   "cell_type": "markdown",
   "id": "cfd0f9f3-c321-4352-b692-6f0f538104b3",
   "metadata": {
    "tags": []
   },
   "source": [
    "# Debug mseed2zarr 3/20/23"
   ]
  },
  {
   "cell_type": "code",
   "execution_count": null,
   "id": "3aca82b0-f74c-4465-902e-e6c7ab89f1c6",
   "metadata": {},
   "outputs": [],
   "source": []
  },
  {
   "cell_type": "code",
   "execution_count": 1,
   "id": "064e6ee8-7d28-45c8-939c-a0ed57cf8168",
   "metadata": {},
   "outputs": [],
   "source": [
    "'''\n",
    "mseed2zarr.py - this converts the mseed files saved in lfhydrophone/mseed2 to a zarr store\n",
    "\n",
    "mseed files are not uniformly created, because I was simultaneously developing the code while downloading the files\n",
    "This results in alot of strange handling of the timestamps around 2016\n",
    "\n",
    "03.06.2023 - updating LF hydrophone zarr store to contain data through 2022. I'm thinking that I'm\n",
    "    going to create the zarr store from scratch again and that I will still not have the ability \n",
    "    to append. I'm creating it from scratch so that I can add calibration information\n",
    "'''\n",
    "import obspy\n",
    "import os\n",
    "from azure.storage.blob import BlobServiceClient, BlobClient, ContainerClient\n",
    "from matplotlib import pyplot as plt\n",
    "import numpy as np\n",
    "import pandas as pd\n",
    "from datetime import datetime\n",
    "import io\n",
    "from tqdm import tqdm\n",
    "import xarray as xr\n",
    "from dask.distributed import Client\n",
    "\n",
    "connect_str = os.environ['AZURE_CONSTR_ooidata']\n",
    "# Create the BlobServiceClient object which will be used to create a container client\n",
    "blob_service_client = BlobServiceClient.from_connection_string(connect_str)\n",
    "# Create a unique name for the container\n",
    "container_name = 'lfhydrophonemseed'\n",
    "\n",
    "# Create container\n",
    "container_client = blob_service_client.get_container_client(container_name)\n",
    "\n",
    "station_names = ['AXBA1','AXCC1','AXEC2','HYSB1', 'HYS14']\n",
    "calib_vals = [2257.53, 2480.98, 2421.9, 2311.11, 2499.09] # counts/PA\n",
    "calib = dict(zip(station_names, calib_vals))\n",
    "\n",
    "zarr_dir = '/datadrive/lfhydrophone/ooi_lfhydrophones.zarr'\n",
    "\n",
    "# List the blobs in the container\n",
    "blob_list = list(container_client.list_blobs())\n",
    "last_int_idx = -1\n",
    "\n",
    "start_idx = 0\n",
    "dry_run = False"
   ]
  },
  {
   "cell_type": "code",
   "execution_count": 8,
   "id": "696f50c1-408c-49e1-afa2-fa938c45423c",
   "metadata": {},
   "outputs": [
    {
     "data": {
      "text/plain": [
       "'2015_01_16.miniseed'"
      ]
     },
     "execution_count": 8,
     "metadata": {},
     "output_type": "execute_result"
    }
   ],
   "source": [
    "blob_list[15].name"
   ]
  },
  {
   "cell_type": "code",
   "execution_count": 9,
   "id": "71213d04-d0e8-40ff-b562-ac8bc635a740",
   "metadata": {},
   "outputs": [],
   "source": [
    "single_blob_client = blob_service_client.get_blob_client(container=container_name, blob=blob_list[15].name)"
   ]
  },
  {
   "cell_type": "code",
   "execution_count": 13,
   "id": "7f1ca4cb-0cb3-45a2-abbb-747957ee44b4",
   "metadata": {},
   "outputs": [],
   "source": [
    "single_blob_client = blob_service_client.get_blob_client(container=container_name, blob=blob_list[16].name)\n",
    "with open(file='temp.miniseed', mode=\"wb\") as sample_blob:\n",
    "    download_stream = single_blob_client.download_blob()\n",
    "    sample_blob.write(download_stream.readall())"
   ]
  },
  {
   "cell_type": "code",
   "execution_count": 7,
   "id": "e9191bd9-e742-46ad-813e-e57d70db250d",
   "metadata": {},
   "outputs": [
    {
     "data": {
      "text/plain": [
       "<azure.storage.blob._blob_service_client.BlobServiceClient at 0x7f1e7b316f20>"
      ]
     },
     "execution_count": 7,
     "metadata": {},
     "output_type": "execute_result"
    }
   ],
   "source": [
    "blob_service_client"
   ]
  },
  {
   "cell_type": "code",
   "execution_count": null,
   "id": "76314cb0-51af-405c-9fed-2dfb9a3b1f68",
   "metadata": {},
   "outputs": [],
   "source": []
  }
 ],
 "metadata": {
  "kernelspec": {
   "display_name": "Python 3 (ipykernel)",
   "language": "python",
   "name": "python3"
  },
  "language_info": {
   "codemirror_mode": {
    "name": "ipython",
    "version": 3
   },
   "file_extension": ".py",
   "mimetype": "text/x-python",
   "name": "python",
   "nbconvert_exporter": "python",
   "pygments_lexer": "ipython3",
   "version": "3.10.4"
  }
 },
 "nbformat": 4,
 "nbformat_minor": 5
}
