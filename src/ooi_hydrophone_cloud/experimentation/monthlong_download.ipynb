{
 "cells": [
  {
   "cell_type": "markdown",
   "id": "30efc663-2878-4b01-88c6-7a039ec361a6",
   "metadata": {},
   "source": [
    "# Explore longterm data download as option"
   ]
  },
  {
   "cell_type": "code",
   "execution_count": 1,
   "id": "5f2e7716-59b6-403e-ad79-375115cba9bd",
   "metadata": {},
   "outputs": [],
   "source": [
    "import obspy\n",
    "import numpy as np\n",
    "import pandas as pd\n",
    "import xarray as xr\n",
    "from matplotlib import pyplot as plt \n",
    "from scipy.interpolate import interp1d\n",
    "from tqdm import tqdm"
   ]
  },
  {
   "cell_type": "code",
   "execution_count": 2,
   "id": "7b322951-4148-4518-891b-25741a1442b4",
   "metadata": {},
   "outputs": [],
   "source": [
    "fn = '/home/jhrag/data/1month.miniseed'\n",
    "stream = obspy.read(fn)"
   ]
  },
  {
   "cell_type": "code",
   "execution_count": 5,
   "id": "7d97a2eb-5451-45df-a8d0-4754e78d0554",
   "metadata": {},
   "outputs": [
    {
     "data": {
      "text/plain": [
       "5 Trace(s) in Stream:\n",
       "OO.AXEC2..HDH | 2021-10-01T00:00:00.000000Z - 2021-10-05T13:37:03.890644Z | 200.0 Hz, 78924743 samples\n",
       "OO.AXEC2..HDH | 2021-10-06T20:16:19.000000Z - 2021-10-06T20:19:00.665000Z | 200.0 Hz, 32334 samples\n",
       "OO.AXEC2..HDH | 2021-10-06T20:19:05.000000Z - 2021-10-09T14:33:24.935000Z | 200.0 Hz, 47691988 samples\n",
       "OO.AXEC2..HDH | 2021-10-09T20:33:24.490000Z - 2021-10-30T17:43:21.162649Z | 200.0 Hz, 360839308 samples\n",
       "OO.AXEC2..HDH | 2021-10-30T22:43:21.020000Z - 2021-11-01T00:00:00.000000Z | 200.0 Hz, 18199797 samples"
      ]
     },
     "execution_count": 5,
     "metadata": {},
     "output_type": "execute_result"
    }
   ],
   "source": [
    "stream"
   ]
  },
  {
   "cell_type": "markdown",
   "id": "4f4ff841-fbca-428b-a28f-21adc44b2b68",
   "metadata": {},
   "source": [
    "## Build Custom Merge Function"
   ]
  },
  {
   "cell_type": "code",
   "execution_count": 11,
   "id": "89aa4d33-fd0e-409c-8b07-79569367b4ee",
   "metadata": {},
   "outputs": [
    {
     "name": "stderr",
     "output_type": "stream",
     "text": [
      "100%|███████████████████████████████████████████████████████████████████████████████████████████████████████████████████████████████████████████████████████████████| 5/5 [00:03<00:00,  1.46it/s]\n"
     ]
    }
   ],
   "source": [
    "t = []\n",
    "data = []\n",
    "\n",
    "for k, trace in enumerate(tqdm(stream)):\n",
    "    \n",
    "    if k != 0:\n",
    "        # add nan value to begining\n",
    "        t.append(np.array([trace.stats.starttime.ns - trace.stats.delta*1e9]).astype(int))\n",
    "        data.append(np.array([np.nan]).astype(np.float32))\n",
    "        \n",
    "    # Add data (microsecond added to end time for rounding errors)\n",
    "    t.append(np.arange(trace.stats.starttime.ns, trace.stats.endtime.ns + 1000, trace.stats.delta*1e9).astype(int))\n",
    "    data.append(trace.data.astype(np.float32))\n",
    "    \n",
    "    if k != (len(stream)-1):\n",
    "        # add nan value to end\n",
    "        t.append(np.array([t[-1][-1] + trace.stats.delta*1e9]).astype(int))\n",
    "        data.append(np.array([np.nan]).astype(np.float32))"
   ]
  },
  {
   "cell_type": "code",
   "execution_count": 12,
   "id": "9218ad84-3eee-4eff-8ccf-24144d54a193",
   "metadata": {},
   "outputs": [],
   "source": [
    "data = np.concatenate(data)\n",
    "t = np.concatenate(t)"
   ]
  },
  {
   "cell_type": "code",
   "execution_count": null,
   "id": "5371772c-1c0e-45d0-800e-94b4062684ba",
   "metadata": {},
   "outputs": [],
   "source": [
    "f = interp1d(t,data, kind='cubic', bounds_error=False)"
   ]
  },
  {
   "cell_type": "code",
   "execution_count": null,
   "id": "54dc2940-3767-407b-9b77-f718cac74015",
   "metadata": {},
   "outputs": [],
   "source": []
  },
  {
   "cell_type": "code",
   "execution_count": 13,
   "id": "f5b414b8-5fb0-4673-8d11-135e9ff471b5",
   "metadata": {},
   "outputs": [],
   "source": [
    "starttime = pd.Timestamp('2021-10-1')\n",
    "endtime = pd.Timestamp('2021-11-1')\n",
    "\n",
    "time_grid = np.arange(\n",
    "    starttime.value,\n",
    "    endtime.value,\n",
    "    1/200*1e9\n",
    ")"
   ]
  },
  {
   "cell_type": "code",
   "execution_count": 15,
   "id": "2fc46b3a-eded-4d94-81c1-1d7a746a47ea",
   "metadata": {},
   "outputs": [
    {
     "name": "stderr",
     "output_type": "stream",
     "text": [
      "/Users/jhrag/opt/anaconda3/envs/ooi_dev9/lib/python3.9/site-packages/scipy/interpolate/interpolate.py:630: RuntimeWarning: invalid value encountered in true_divide\n",
      "  slope = (y_hi - y_lo) / (x_hi - x_lo)[:, None]\n"
     ]
    },
    {
     "ename": "ValueError",
     "evalue": "A value in x_new is above the interpolation range.",
     "output_type": "error",
     "traceback": [
      "\u001b[0;31m---------------------------------------------------------------------------\u001b[0m",
      "\u001b[0;31mValueError\u001b[0m                                Traceback (most recent call last)",
      "Input \u001b[0;32mIn [15]\u001b[0m, in \u001b[0;36m<cell line: 1>\u001b[0;34m()\u001b[0m\n\u001b[0;32m----> 1\u001b[0m interpolated_data \u001b[38;5;241m=\u001b[39m \u001b[43mf\u001b[49m\u001b[43m(\u001b[49m\u001b[43mtime_grid\u001b[49m\u001b[43m)\u001b[49m\n",
      "File \u001b[0;32m~/opt/anaconda3/envs/ooi_dev9/lib/python3.9/site-packages/scipy/interpolate/polyint.py:78\u001b[0m, in \u001b[0;36m_Interpolator1D.__call__\u001b[0;34m(self, x)\u001b[0m\n\u001b[1;32m     57\u001b[0m \u001b[38;5;124;03m\"\"\"\u001b[39;00m\n\u001b[1;32m     58\u001b[0m \u001b[38;5;124;03mEvaluate the interpolant\u001b[39;00m\n\u001b[1;32m     59\u001b[0m \n\u001b[0;32m   (...)\u001b[0m\n\u001b[1;32m     75\u001b[0m \n\u001b[1;32m     76\u001b[0m \u001b[38;5;124;03m\"\"\"\u001b[39;00m\n\u001b[1;32m     77\u001b[0m x, x_shape \u001b[38;5;241m=\u001b[39m \u001b[38;5;28mself\u001b[39m\u001b[38;5;241m.\u001b[39m_prepare_x(x)\n\u001b[0;32m---> 78\u001b[0m y \u001b[38;5;241m=\u001b[39m \u001b[38;5;28;43mself\u001b[39;49m\u001b[38;5;241;43m.\u001b[39;49m\u001b[43m_evaluate\u001b[49m\u001b[43m(\u001b[49m\u001b[43mx\u001b[49m\u001b[43m)\u001b[49m\n\u001b[1;32m     79\u001b[0m \u001b[38;5;28;01mreturn\u001b[39;00m \u001b[38;5;28mself\u001b[39m\u001b[38;5;241m.\u001b[39m_finish_y(y, x_shape)\n",
      "File \u001b[0;32m~/opt/anaconda3/envs/ooi_dev9/lib/python3.9/site-packages/scipy/interpolate/interpolate.py:684\u001b[0m, in \u001b[0;36minterp1d._evaluate\u001b[0;34m(self, x_new)\u001b[0m\n\u001b[1;32m    682\u001b[0m y_new \u001b[38;5;241m=\u001b[39m \u001b[38;5;28mself\u001b[39m\u001b[38;5;241m.\u001b[39m_call(\u001b[38;5;28mself\u001b[39m, x_new)\n\u001b[1;32m    683\u001b[0m \u001b[38;5;28;01mif\u001b[39;00m \u001b[38;5;129;01mnot\u001b[39;00m \u001b[38;5;28mself\u001b[39m\u001b[38;5;241m.\u001b[39m_extrapolate:\n\u001b[0;32m--> 684\u001b[0m     below_bounds, above_bounds \u001b[38;5;241m=\u001b[39m \u001b[38;5;28;43mself\u001b[39;49m\u001b[38;5;241;43m.\u001b[39;49m\u001b[43m_check_bounds\u001b[49m\u001b[43m(\u001b[49m\u001b[43mx_new\u001b[49m\u001b[43m)\u001b[49m\n\u001b[1;32m    685\u001b[0m     \u001b[38;5;28;01mif\u001b[39;00m \u001b[38;5;28mlen\u001b[39m(y_new) \u001b[38;5;241m>\u001b[39m \u001b[38;5;241m0\u001b[39m:\n\u001b[1;32m    686\u001b[0m         \u001b[38;5;66;03m# Note fill_value must be broadcast up to the proper size\u001b[39;00m\n\u001b[1;32m    687\u001b[0m         \u001b[38;5;66;03m# and flattened to work here\u001b[39;00m\n\u001b[1;32m    688\u001b[0m         y_new[below_bounds] \u001b[38;5;241m=\u001b[39m \u001b[38;5;28mself\u001b[39m\u001b[38;5;241m.\u001b[39m_fill_value_below\n",
      "File \u001b[0;32m~/opt/anaconda3/envs/ooi_dev9/lib/python3.9/site-packages/scipy/interpolate/interpolate.py:716\u001b[0m, in \u001b[0;36minterp1d._check_bounds\u001b[0;34m(self, x_new)\u001b[0m\n\u001b[1;32m    713\u001b[0m     \u001b[38;5;28;01mraise\u001b[39;00m \u001b[38;5;167;01mValueError\u001b[39;00m(\u001b[38;5;124m\"\u001b[39m\u001b[38;5;124mA value in x_new is below the interpolation \u001b[39m\u001b[38;5;124m\"\u001b[39m\n\u001b[1;32m    714\u001b[0m                      \u001b[38;5;124m\"\u001b[39m\u001b[38;5;124mrange.\u001b[39m\u001b[38;5;124m\"\u001b[39m)\n\u001b[1;32m    715\u001b[0m \u001b[38;5;28;01mif\u001b[39;00m \u001b[38;5;28mself\u001b[39m\u001b[38;5;241m.\u001b[39mbounds_error \u001b[38;5;129;01mand\u001b[39;00m above_bounds\u001b[38;5;241m.\u001b[39many():\n\u001b[0;32m--> 716\u001b[0m     \u001b[38;5;28;01mraise\u001b[39;00m \u001b[38;5;167;01mValueError\u001b[39;00m(\u001b[38;5;124m\"\u001b[39m\u001b[38;5;124mA value in x_new is above the interpolation \u001b[39m\u001b[38;5;124m\"\u001b[39m\n\u001b[1;32m    717\u001b[0m                      \u001b[38;5;124m\"\u001b[39m\u001b[38;5;124mrange.\u001b[39m\u001b[38;5;124m\"\u001b[39m)\n\u001b[1;32m    719\u001b[0m \u001b[38;5;66;03m# !! Should we emit a warning if some values are out of bounds?\u001b[39;00m\n\u001b[1;32m    720\u001b[0m \u001b[38;5;66;03m# !! matlab does not.\u001b[39;00m\n\u001b[1;32m    721\u001b[0m \u001b[38;5;28;01mreturn\u001b[39;00m below_bounds, above_bounds\n",
      "\u001b[0;31mValueError\u001b[0m: A value in x_new is above the interpolation range."
     ]
    }
   ],
   "source": [
    "interpolated_data = f(time_grid)"
   ]
  },
  {
   "cell_type": "markdown",
   "id": "465ddcb5-f777-47f6-9ecd-2418b200e6cb",
   "metadata": {},
   "source": [
    "## Explore how interpolation works"
   ]
  },
  {
   "cell_type": "code",
   "execution_count": 24,
   "id": "46380e9a-ae7f-45ef-a086-5974366618e7",
   "metadata": {},
   "outputs": [],
   "source": [
    "t = np.arange(0,1,0.005)\n",
    "x = np.sin(2*np.pi*2*t)"
   ]
  },
  {
   "cell_type": "code",
   "execution_count": 26,
   "id": "09af7968-e9ae-47ce-97b3-ae5d92555988",
   "metadata": {},
   "outputs": [],
   "source": [
    "x[50:100] = np.nan"
   ]
  },
  {
   "cell_type": "code",
   "execution_count": 32,
   "id": "f9b32dac-1a63-4ff3-bb7d-6c9bd990091d",
   "metadata": {},
   "outputs": [],
   "source": [
    "f = interp1d(t,x, bounds_error=False)"
   ]
  },
  {
   "cell_type": "code",
   "execution_count": 29,
   "id": "920bfbb5-74d3-4c29-a9e0-6940302a726a",
   "metadata": {},
   "outputs": [],
   "source": [
    "t2 = np.arange(0,1,0.001)"
   ]
  },
  {
   "cell_type": "code",
   "execution_count": 37,
   "id": "9566604b-4e07-4736-a64e-3580a7942d40",
   "metadata": {},
   "outputs": [
    {
     "data": {
      "text/plain": [
       "[<matplotlib.lines.Line2D at 0x7fdfef4ffa00>]"
      ]
     },
     "execution_count": 37,
     "metadata": {},
     "output_type": "execute_result"
    },
    {
     "data": {
      "image/png": "[encoded data removed]",
      "text/plain": [
       "<Figure size 640x480 with 1 Axes>"
      ]
     },
     "metadata": {},
     "output_type": "display_data"
    }
   ],
   "source": [
    "plt.plot(t2, f(t2), '.')\n",
    "plt.plot(t, x, '.')"
   ]
  },
  {
   "cell_type": "code",
   "execution_count": null,
   "id": "869b62d4-ce1d-40f2-9bea-a5c8cd618323",
   "metadata": {},
   "outputs": [],
   "source": []
  }
 ],
 "metadata": {
  "kernelspec": {
   "display_name": "Python 3 (ipykernel)",
   "language": "python",
   "name": "python3"
  },
  "language_info": {
   "codemirror_mode": {
    "name": "ipython",
    "version": 3
   },
   "file_extension": ".py",
   "mimetype": "text/x-python",
   "name": "python",
   "nbconvert_exporter": "python",
   "pygments_lexer": "ipython3",
   "version": "3.9.7"
  }
 },
 "nbformat": 4,
 "nbformat_minor": 5
}
