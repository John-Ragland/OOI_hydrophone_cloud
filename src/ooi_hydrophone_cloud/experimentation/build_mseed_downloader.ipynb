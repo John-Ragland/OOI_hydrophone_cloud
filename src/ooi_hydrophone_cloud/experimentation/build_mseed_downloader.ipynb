{
 "cells": [
  {
   "cell_type": "markdown",
   "id": "3543d192-73de-4e52-a70d-c515de5fb0a4",
   "metadata": {},
   "source": [
    "# build mseed downloader"
   ]
  },
  {
   "cell_type": "code",
   "execution_count": 12,
   "id": "734adc56-393c-4d7c-b39d-d4f222fc913d",
   "metadata": {},
   "outputs": [],
   "source": [
    "import os\n",
    "import obspy\n",
    "import pandas as pd\n",
    "from datetime import datetime, timedelta"
   ]
  },
  {
   "cell_type": "code",
   "execution_count": 13,
   "id": "009059ca-9736-46e7-9a93-31789bbe47a4",
   "metadata": {},
   "outputs": [],
   "source": [
    "fn = 'test.miniseed'\n",
    "stream = obspy.read(fn)"
   ]
  },
  {
   "cell_type": "code",
   "execution_count": 46,
   "id": "d216f325-a35a-4151-a920-302aab347a2a",
   "metadata": {},
   "outputs": [],
   "source": [
    "time_base = datetime(2018,1,1)\n",
    "chunk_length = timedelta(days=1)\n",
    "\n",
    "k = 0\n",
    "starttime = time_base + k*chunk_length\n",
    "endtime = time_base + (k+1)*chunk_length"
   ]
  },
  {
   "cell_type": "code",
   "execution_count": null,
   "id": "e474533a-d82d-4058-964e-d99f9be59041",
   "metadata": {},
   "outputs": [],
   "source": []
  },
  {
   "cell_type": "code",
   "execution_count": 55,
   "id": "e1003119-2cbd-49f7-8d60-9158758e6837",
   "metadata": {},
   "outputs": [],
   "source": [
    "\n",
    "lines = []\n",
    "locations = ['AXBA1', 'AXCC1', 'AXEC2', 'HYSB1', 'HYS14']\n",
    "time_string = f\"{starttime.strftime('%Y-%m-%dT%H:%M:%S.%f')} {endtime.strftime('%Y-%m-%dT%H:%M:%S.%f')}\"\n",
    "for k in range(5):\n",
    "    lines.append(f'OO {locations[k]} -- HDH {time_string}\\n')"
   ]
  },
  {
   "cell_type": "code",
   "execution_count": 56,
   "id": "5f740d4b-0fd0-4507-9437-e1de20f34122",
   "metadata": {},
   "outputs": [],
   "source": [
    "with open('waveform.request', 'w') as f:\n",
    "    f.writelines(lines)\n",
    "    \n",
    "f.close()"
   ]
  },
  {
   "cell_type": "code",
   "execution_count": null,
   "id": "08dd02b9-6a3f-4d5c-92ed-d19960e6b639",
   "metadata": {},
   "outputs": [],
   "source": [
    "os.system('wget --post-file=waveform.request -O day.miniseed http://service.iris.edu/fdsnws/dataselect/1/query')"
   ]
  },
  {
   "cell_type": "code",
   "execution_count": 45,
   "id": "9c4e06a6-ab3b-45ab-9ba9-44224fd7bb55",
   "metadata": {},
   "outputs": [
    {
     "data": {
      "text/plain": [
       "'2015-01-01T00:00:00.000000 2015-01-02T00:00:00.000000'"
      ]
     },
     "execution_count": 45,
     "metadata": {},
     "output_type": "execute_result"
    }
   ],
   "source": [
    "time_string"
   ]
  },
  {
   "cell_type": "code",
   "execution_count": 54,
   "id": "805b38cf-ded9-482b-b9f3-5b30e8e3dca3",
   "metadata": {},
   "outputs": [
    {
     "data": {
      "text/plain": [
       "['OO AXBA1 -- 2018-01-01T00:00:00 2018-01-02T00:00:00\\n',\n",
       " 'OO AXCC1 -- 2018-01-01T00:00:00 2018-01-02T00:00:00\\n',\n",
       " 'OO AXEC2 -- 2018-01-01T00:00:00 2018-01-02T00:00:00\\n',\n",
       " 'OO HYSB1 -- 2018-01-01T00:00:00 2018-01-02T00:00:00\\n',\n",
       " 'OO HYS14 -- 2018-01-01T00:00:00 2018-01-02T00:00:00\\n']"
      ]
     },
     "execution_count": 54,
     "metadata": {},
     "output_type": "execute_result"
    }
   ],
   "source": [
    "lines"
   ]
  },
  {
   "cell_type": "code",
   "execution_count": 61,
   "id": "72b4d363-c65c-4ab1-9e38-eed46d68ff2d",
   "metadata": {},
   "outputs": [
    {
     "ename": "TypeError",
     "evalue": "Unknown format for file ../scripts/2015_01_01.miniseed",
     "output_type": "error",
     "traceback": [
      "\u001b[0;31m---------------------------------------------------------------------------\u001b[0m",
      "\u001b[0;31mTypeError\u001b[0m                                 Traceback (most recent call last)",
      "Cell \u001b[0;32mIn [61], line 1\u001b[0m\n\u001b[0;32m----> 1\u001b[0m obspy\u001b[38;5;241m.\u001b[39mread(\u001b[38;5;124m'\u001b[39m\u001b[38;5;124m../scripts/2015_01_01.miniseed\u001b[39m\u001b[38;5;124m'\u001b[39m)\n",
      "File \u001b[0;32m~/anaconda3/envs/ooi_dev/lib/python3.10/site-packages/decorator.py:232\u001b[0m, in \u001b[0;36mdecorate.<locals>.fun\u001b[0;34m(*args, **kw)\u001b[0m\n\u001b[1;32m    230\u001b[0m \u001b[38;5;28;01mif\u001b[39;00m \u001b[38;5;129;01mnot\u001b[39;00m kwsyntax:\n\u001b[1;32m    231\u001b[0m     args, kw \u001b[38;5;241m=\u001b[39m fix(args, kw, sig)\n\u001b[0;32m--> 232\u001b[0m \u001b[38;5;28;01mreturn\u001b[39;00m \u001b[43mcaller\u001b[49m\u001b[43m(\u001b[49m\u001b[43mfunc\u001b[49m\u001b[43m,\u001b[49m\u001b[43m \u001b[49m\u001b[38;5;241;43m*\u001b[39;49m\u001b[43m(\u001b[49m\u001b[43mextras\u001b[49m\u001b[43m \u001b[49m\u001b[38;5;241;43m+\u001b[39;49m\u001b[43m \u001b[49m\u001b[43margs\u001b[49m\u001b[43m)\u001b[49m\u001b[43m,\u001b[49m\u001b[43m \u001b[49m\u001b[38;5;241;43m*\u001b[39;49m\u001b[38;5;241;43m*\u001b[39;49m\u001b[43mkw\u001b[49m\u001b[43m)\u001b[49m\n",
      "File \u001b[0;32m~/anaconda3/envs/ooi_dev/lib/python3.10/site-packages/obspy/core/util/decorator.py:291\u001b[0m, in \u001b[0;36mmap_example_filename.<locals>._map_example_filename\u001b[0;34m(func, *args, **kwargs)\u001b[0m\n\u001b[1;32m    289\u001b[0m                 \u001b[38;5;28;01mexcept\u001b[39;00m \u001b[38;5;167;01mIOError\u001b[39;00m:\n\u001b[1;32m    290\u001b[0m                     \u001b[38;5;28;01mpass\u001b[39;00m\n\u001b[0;32m--> 291\u001b[0m \u001b[38;5;28;01mreturn\u001b[39;00m \u001b[43mfunc\u001b[49m\u001b[43m(\u001b[49m\u001b[38;5;241;43m*\u001b[39;49m\u001b[43margs\u001b[49m\u001b[43m,\u001b[49m\u001b[43m \u001b[49m\u001b[38;5;241;43m*\u001b[39;49m\u001b[38;5;241;43m*\u001b[39;49m\u001b[43mkwargs\u001b[49m\u001b[43m)\u001b[49m\n",
      "File \u001b[0;32m~/anaconda3/envs/ooi_dev/lib/python3.10/site-packages/obspy/core/stream.py:208\u001b[0m, in \u001b[0;36mread\u001b[0;34m(pathname_or_url, format, headonly, starttime, endtime, nearest_sample, dtype, apply_calib, check_compression, **kwargs)\u001b[0m\n\u001b[1;32m    206\u001b[0m     st \u001b[38;5;241m=\u001b[39m _create_example_stream(headonly\u001b[38;5;241m=\u001b[39mheadonly)\n\u001b[1;32m    207\u001b[0m \u001b[38;5;28;01melse\u001b[39;00m:\n\u001b[0;32m--> 208\u001b[0m     st \u001b[38;5;241m=\u001b[39m \u001b[43m_generic_reader\u001b[49m\u001b[43m(\u001b[49m\u001b[43mpathname_or_url\u001b[49m\u001b[43m,\u001b[49m\u001b[43m \u001b[49m\u001b[43m_read\u001b[49m\u001b[43m,\u001b[49m\u001b[43m \u001b[49m\u001b[38;5;241;43m*\u001b[39;49m\u001b[38;5;241;43m*\u001b[39;49m\u001b[43mkwargs\u001b[49m\u001b[43m)\u001b[49m\n\u001b[1;32m    210\u001b[0m \u001b[38;5;28;01mif\u001b[39;00m \u001b[38;5;28mlen\u001b[39m(st) \u001b[38;5;241m==\u001b[39m \u001b[38;5;241m0\u001b[39m:\n\u001b[1;32m    211\u001b[0m     \u001b[38;5;66;03m# try to give more specific information why the stream is empty\u001b[39;00m\n\u001b[1;32m    212\u001b[0m     \u001b[38;5;28;01mif\u001b[39;00m has_magic(pathname_or_url) \u001b[38;5;129;01mand\u001b[39;00m \u001b[38;5;129;01mnot\u001b[39;00m glob(pathname_or_url):\n",
      "File \u001b[0;32m~/anaconda3/envs/ooi_dev/lib/python3.10/site-packages/obspy/core/util/base.py:657\u001b[0m, in \u001b[0;36m_generic_reader\u001b[0;34m(pathname_or_url, callback_func, **kwargs)\u001b[0m\n\u001b[1;32m    654\u001b[0m     \u001b[38;5;28;01melif\u001b[39;00m \u001b[38;5;129;01mnot\u001b[39;00m glob\u001b[38;5;241m.\u001b[39mhas_magic(pathname) \u001b[38;5;129;01mand\u001b[39;00m \u001b[38;5;129;01mnot\u001b[39;00m Path(pathname)\u001b[38;5;241m.\u001b[39mis_file():\n\u001b[1;32m    655\u001b[0m         \u001b[38;5;28;01mraise\u001b[39;00m \u001b[38;5;167;01mIOError\u001b[39;00m(\u001b[38;5;241m2\u001b[39m, \u001b[38;5;124m\"\u001b[39m\u001b[38;5;124mNo such file or directory\u001b[39m\u001b[38;5;124m\"\u001b[39m, pathname)\n\u001b[0;32m--> 657\u001b[0m generic \u001b[38;5;241m=\u001b[39m \u001b[43mcallback_func\u001b[49m\u001b[43m(\u001b[49m\u001b[43mpathnames\u001b[49m\u001b[43m[\u001b[49m\u001b[38;5;241;43m0\u001b[39;49m\u001b[43m]\u001b[49m\u001b[43m,\u001b[49m\u001b[43m \u001b[49m\u001b[38;5;241;43m*\u001b[39;49m\u001b[38;5;241;43m*\u001b[39;49m\u001b[43mkwargs\u001b[49m\u001b[43m)\u001b[49m\n\u001b[1;32m    658\u001b[0m \u001b[38;5;28;01mif\u001b[39;00m \u001b[38;5;28mlen\u001b[39m(pathnames) \u001b[38;5;241m>\u001b[39m \u001b[38;5;241m1\u001b[39m:\n\u001b[1;32m    659\u001b[0m     \u001b[38;5;28;01mfor\u001b[39;00m filename \u001b[38;5;129;01min\u001b[39;00m pathnames[\u001b[38;5;241m1\u001b[39m:]:\n",
      "File \u001b[0;32m~/anaconda3/envs/ooi_dev/lib/python3.10/site-packages/decorator.py:232\u001b[0m, in \u001b[0;36mdecorate.<locals>.fun\u001b[0;34m(*args, **kw)\u001b[0m\n\u001b[1;32m    230\u001b[0m \u001b[38;5;28;01mif\u001b[39;00m \u001b[38;5;129;01mnot\u001b[39;00m kwsyntax:\n\u001b[1;32m    231\u001b[0m     args, kw \u001b[38;5;241m=\u001b[39m fix(args, kw, sig)\n\u001b[0;32m--> 232\u001b[0m \u001b[38;5;28;01mreturn\u001b[39;00m \u001b[43mcaller\u001b[49m\u001b[43m(\u001b[49m\u001b[43mfunc\u001b[49m\u001b[43m,\u001b[49m\u001b[43m \u001b[49m\u001b[38;5;241;43m*\u001b[39;49m\u001b[43m(\u001b[49m\u001b[43mextras\u001b[49m\u001b[43m \u001b[49m\u001b[38;5;241;43m+\u001b[39;49m\u001b[43m \u001b[49m\u001b[43margs\u001b[49m\u001b[43m)\u001b[49m\u001b[43m,\u001b[49m\u001b[43m \u001b[49m\u001b[38;5;241;43m*\u001b[39;49m\u001b[38;5;241;43m*\u001b[39;49m\u001b[43mkw\u001b[49m\u001b[43m)\u001b[49m\n",
      "File \u001b[0;32m~/anaconda3/envs/ooi_dev/lib/python3.10/site-packages/obspy/core/util/decorator.py:202\u001b[0m, in \u001b[0;36muncompress_file\u001b[0;34m(func, filename, *args, **kwargs)\u001b[0m\n\u001b[1;32m    199\u001b[0m                 result \u001b[38;5;241m+\u001b[39m\u001b[38;5;241m=\u001b[39m stream\n\u001b[1;32m    200\u001b[0m \u001b[38;5;28;01melse\u001b[39;00m:\n\u001b[1;32m    201\u001b[0m     \u001b[38;5;66;03m# no compressions\u001b[39;00m\n\u001b[0;32m--> 202\u001b[0m     result \u001b[38;5;241m=\u001b[39m \u001b[43mfunc\u001b[49m\u001b[43m(\u001b[49m\u001b[43mfilename\u001b[49m\u001b[43m,\u001b[49m\u001b[43m \u001b[49m\u001b[38;5;241;43m*\u001b[39;49m\u001b[43margs\u001b[49m\u001b[43m,\u001b[49m\u001b[43m \u001b[49m\u001b[38;5;241;43m*\u001b[39;49m\u001b[38;5;241;43m*\u001b[39;49m\u001b[43mkwargs\u001b[49m\u001b[43m)\u001b[49m\n\u001b[1;32m    203\u001b[0m \u001b[38;5;28;01mreturn\u001b[39;00m result\n",
      "File \u001b[0;32m~/anaconda3/envs/ooi_dev/lib/python3.10/site-packages/obspy/core/stream.py:249\u001b[0m, in \u001b[0;36m_read\u001b[0;34m(filename, format, headonly, **kwargs)\u001b[0m\n\u001b[1;32m    244\u001b[0m \u001b[38;5;129m@uncompress_file\u001b[39m\n\u001b[1;32m    245\u001b[0m \u001b[38;5;28;01mdef\u001b[39;00m \u001b[38;5;21m_read\u001b[39m(filename, \u001b[38;5;28mformat\u001b[39m\u001b[38;5;241m=\u001b[39m\u001b[38;5;28;01mNone\u001b[39;00m, headonly\u001b[38;5;241m=\u001b[39m\u001b[38;5;28;01mFalse\u001b[39;00m, \u001b[38;5;241m*\u001b[39m\u001b[38;5;241m*\u001b[39mkwargs):\n\u001b[1;32m    246\u001b[0m     \u001b[38;5;124;03m\"\"\"\u001b[39;00m\n\u001b[1;32m    247\u001b[0m \u001b[38;5;124;03m    Read a single file into a ObsPy Stream object.\u001b[39;00m\n\u001b[1;32m    248\u001b[0m \u001b[38;5;124;03m    \"\"\"\u001b[39;00m\n\u001b[0;32m--> 249\u001b[0m     stream, \u001b[38;5;28mformat\u001b[39m \u001b[38;5;241m=\u001b[39m \u001b[43m_read_from_plugin\u001b[49m\u001b[43m(\u001b[49m\u001b[38;5;124;43m'\u001b[39;49m\u001b[38;5;124;43mwaveform\u001b[39;49m\u001b[38;5;124;43m'\u001b[39;49m\u001b[43m,\u001b[49m\u001b[43m \u001b[49m\u001b[43mfilename\u001b[49m\u001b[43m,\u001b[49m\u001b[43m \u001b[49m\u001b[38;5;28;43mformat\u001b[39;49m\u001b[38;5;241;43m=\u001b[39;49m\u001b[38;5;28;43mformat\u001b[39;49m\u001b[43m,\u001b[49m\n\u001b[1;32m    250\u001b[0m \u001b[43m                                       \u001b[49m\u001b[43mheadonly\u001b[49m\u001b[38;5;241;43m=\u001b[39;49m\u001b[43mheadonly\u001b[49m\u001b[43m,\u001b[49m\u001b[43m \u001b[49m\u001b[38;5;241;43m*\u001b[39;49m\u001b[38;5;241;43m*\u001b[39;49m\u001b[43mkwargs\u001b[49m\u001b[43m)\u001b[49m\n\u001b[1;32m    251\u001b[0m     \u001b[38;5;66;03m# set _format identifier for each element\u001b[39;00m\n\u001b[1;32m    252\u001b[0m     \u001b[38;5;28;01mfor\u001b[39;00m trace \u001b[38;5;129;01min\u001b[39;00m stream:\n",
      "File \u001b[0;32m~/anaconda3/envs/ooi_dev/lib/python3.10/site-packages/obspy/core/util/base.py:402\u001b[0m, in \u001b[0;36m_read_from_plugin\u001b[0;34m(plugin_type, filename, format, **kwargs)\u001b[0m\n\u001b[1;32m    400\u001b[0m             \u001b[38;5;28;01mbreak\u001b[39;00m\n\u001b[1;32m    401\u001b[0m     \u001b[38;5;28;01melse\u001b[39;00m:\n\u001b[0;32m--> 402\u001b[0m         \u001b[38;5;28;01mraise\u001b[39;00m \u001b[38;5;167;01mTypeError\u001b[39;00m(\u001b[38;5;124m'\u001b[39m\u001b[38;5;124mUnknown format for file \u001b[39m\u001b[38;5;132;01m%s\u001b[39;00m\u001b[38;5;124m'\u001b[39m \u001b[38;5;241m%\u001b[39m filename)\n\u001b[1;32m    403\u001b[0m \u001b[38;5;28;01melse\u001b[39;00m:\n\u001b[1;32m    404\u001b[0m     \u001b[38;5;66;03m# format given via argument\u001b[39;00m\n\u001b[1;32m    405\u001b[0m     \u001b[38;5;28mformat\u001b[39m \u001b[38;5;241m=\u001b[39m \u001b[38;5;28mformat\u001b[39m\u001b[38;5;241m.\u001b[39mupper()\n",
      "\u001b[0;31mTypeError\u001b[0m: Unknown format for file ../scripts/2015_01_01.miniseed"
     ]
    }
   ],
   "source": [
    "obspy.read('../scripts/2015_01_01.miniseed')"
   ]
  },
  {
   "cell_type": "markdown",
   "id": "aaad5406-b1f6-4f38-8cfd-8ff639f955a6",
   "metadata": {},
   "source": [
    "## Upload file to blob"
   ]
  },
  {
   "cell_type": "code",
   "execution_count": 5,
   "id": "18b31216-9bc0-465f-a191-0daa99820cbf",
   "metadata": {},
   "outputs": [],
   "source": [
    "import os\n",
    "import uuid\n",
    "from azure.storage.blob import BlobServiceClient, BlobClient, ContainerClient, __version__\n",
    "connect_str = os.environ['AZURE_CONSTR']"
   ]
  },
  {
   "cell_type": "code",
   "execution_count": 6,
   "id": "caef989d-3a0b-41e1-88d1-c5400b506f04",
   "metadata": {},
   "outputs": [
    {
     "data": {
      "text/plain": [
       "UUID('49307a39-d816-4eaa-b79a-d8eea35ac2f3')"
      ]
     },
     "execution_count": 6,
     "metadata": {},
     "output_type": "execute_result"
    }
   ],
   "source": [
    "uuid.uuid4()"
   ]
  },
  {
   "cell_type": "code",
   "execution_count": 7,
   "id": "df8cf23f-ea68-4542-8e92-49b8260a57bc",
   "metadata": {},
   "outputs": [],
   "source": [
    "\n",
    "# Create the BlobServiceClient object which will be used to create a container client\n",
    "blob_service_client = BlobServiceClient.from_connection_string(connect_str)\n",
    "\n",
    "# Create a unique name for the container\n",
    "container_name = 'miniseed'\n",
    "\n",
    "# Create the container\n",
    "container_client = blob_service_client.create_container(container_name)"
   ]
  },
  {
   "cell_type": "code",
   "execution_count": 10,
   "id": "e8367ef0-cbba-4b2d-b069-1ed6659da8bf",
   "metadata": {},
   "outputs": [],
   "source": [
    "# Create a blob client using the local file name as the name for the blob\n",
    "blob_client = blob_service_client.get_blob_client(container=container_name, blob='test.miniseed')"
   ]
  },
  {
   "cell_type": "code",
   "execution_count": 11,
   "id": "66b973e2-4d8c-4766-adec-40e574266c46",
   "metadata": {},
   "outputs": [],
   "source": [
    "# Upload the created file\n",
    "with open('test.miniseed', \"rb\") as data:\n",
    "    blob_client.upload_blob(data)"
   ]
  },
  {
   "cell_type": "code",
   "execution_count": 13,
   "id": "aaca80a1-4f24-42fa-81ad-c1f8ee7d14fc",
   "metadata": {},
   "outputs": [],
   "source": [
    "container_client = blob_service_client.get_container_client('miniseed')"
   ]
  },
  {
   "cell_type": "code",
   "execution_count": null,
   "id": "ec375f9e-0b18-4990-8677-4eefd6211817",
   "metadata": {},
   "outputs": [],
   "source": []
  }
 ],
 "metadata": {
  "kernelspec": {
   "display_name": "Python 3 (ipykernel)",
   "language": "python",
   "name": "python3"
  },
  "language_info": {
   "codemirror_mode": {
    "name": "ipython",
    "version": 3
   },
   "file_extension": ".py",
   "mimetype": "text/x-python",
   "name": "python",
   "nbconvert_exporter": "python",
   "pygments_lexer": "ipython3",
   "version": "3.10.6"
  }
 },
 "nbformat": 4,
 "nbformat_minor": 5
}
