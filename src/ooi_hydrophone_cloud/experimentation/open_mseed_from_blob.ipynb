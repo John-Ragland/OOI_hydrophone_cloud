{
 "cells": [
  {
   "cell_type": "markdown",
   "id": "637cda98-eb76-41da-b2ac-771d7aac46ef",
   "metadata": {},
   "source": [
    "# Open mseed from cloud storage\n",
    " (Thank you chatGPT)"
   ]
  },
  {
   "cell_type": "code",
   "execution_count": 3,
   "id": "9c60e3b2-4a11-4b03-949f-93dd1fc279a2",
   "metadata": {},
   "outputs": [],
   "source": [
    "import os\n",
    "from obspy import read\n",
    "import fsspec"
   ]
  },
  {
   "cell_type": "code",
   "execution_count": 5,
   "id": "97968739-9d6a-48a8-aea9-a1cbb53e8615",
   "metadata": {},
   "outputs": [],
   "source": [
    "os.environ['AZURE_CONSTR_lfhydrophone']"
   ]
  },
  {
   "cell_type": "code",
   "execution_count": null,
   "id": "59828b29-77c9-466d-afd9-6bc5e077e8f6",
   "metadata": {},
   "outputs": [],
   "source": [
    "# Azure Blob storage account details\n",
    "account_name = 'lfhydrophone'\n",
    "\n",
    "# Blob details\n",
    "container_name = 'miniseed2'\n",
    "blob_name = '2019_01_13.miniseed'\n",
    "\n",
    "# Create a file system object for Azure Blob storage\n",
    "az_blob_storage = fsspec.filesystem('az', account_name=account_name)\n",
    "\n",
    "# Read the file contents from Azure Blob storage\n",
    "with az_blob_storage.open(f'{container_name}/{blob_name}', 'rb') as f:\n",
    "    file_contents = f.read()\n",
    "\n",
    "# Use obspy to read the file contents as an mseed object\n",
    "st = read(file_contents)\n",
    "\n",
    "# Print some metadata about the mseed object\n",
    "print(st)"
   ]
  },
  {
   "cell_type": "markdown",
   "id": "73f07625-af30-4d4e-8bb0-1c53646e6023",
   "metadata": {},
   "source": [
    "- This seems to work, but is rather slow (~9 MB/s)"
   ]
  },
  {
   "cell_type": "code",
   "execution_count": null,
   "id": "57e67bc7-eb5a-4ee8-b755-6b7df479979e",
   "metadata": {},
   "outputs": [],
   "source": []
  }
 ],
 "metadata": {
  "kernelspec": {
   "display_name": "Python 3 (ipykernel)",
   "language": "python",
   "name": "python3"
  },
  "language_info": {
   "codemirror_mode": {
    "name": "ipython",
    "version": 3
   },
   "file_extension": ".py",
   "mimetype": "text/x-python",
   "name": "python",
   "nbconvert_exporter": "python",
   "pygments_lexer": "ipython3",
   "version": "3.10.4"
  }
 },
 "nbformat": 4,
 "nbformat_minor": 5
}
